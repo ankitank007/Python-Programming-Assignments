{
  "nbformat": 4,
  "nbformat_minor": 0,
  "metadata": {
    "colab": {
      "name": "Assignment7.ipynb",
      "provenance": [],
      "collapsed_sections": []
    },
    "kernelspec": {
      "name": "python3",
      "display_name": "Python 3"
    },
    "language_info": {
      "name": "python"
    }
  },
  "cells": [
    {
      "cell_type": "markdown",
      "source": [
        "1. Write a Python Program to find sum of array?"
      ],
      "metadata": {
        "id": "x8bN2bY1UvMy"
      }
    },
    {
      "cell_type": "code",
      "source": [
        "arr = [2,3,5,6,7,8]\n",
        "su = 0\n",
        "for i in range(len(arr)):\n",
        "  su += arr[i]\n",
        "\n",
        "print(su)\n",
        "\n"
      ],
      "metadata": {
        "colab": {
          "base_uri": "https://localhost:8080/"
        },
        "id": "zsmkmGDPUwVS",
        "outputId": "13ace0ff-2377-4a89-a9cc-8cb5a85b955f"
      },
      "execution_count": 1,
      "outputs": [
        {
          "output_type": "stream",
          "name": "stdout",
          "text": [
            "31\n"
          ]
        }
      ]
    },
    {
      "cell_type": "markdown",
      "source": [
        "2. Write a Python Program to find largest element in an array?"
      ],
      "metadata": {
        "id": "mfMx0BsbUwwx"
      }
    },
    {
      "cell_type": "code",
      "source": [
        "arr1 = [45,67,89,23,12,34]\n",
        "lar = arr1[0]\n",
        "for i in range(len(arr1)):\n",
        "  if arr1[i] > lar:\n",
        "    lar = arr1[i]\n",
        "\n",
        "\n",
        "print(lar)"
      ],
      "metadata": {
        "colab": {
          "base_uri": "https://localhost:8080/"
        },
        "id": "DrYpDNoUU0xB",
        "outputId": "474258a2-9554-4f69-e769-f309ba717351"
      },
      "execution_count": 3,
      "outputs": [
        {
          "output_type": "stream",
          "name": "stdout",
          "text": [
            "89\n"
          ]
        }
      ]
    },
    {
      "cell_type": "markdown",
      "source": [
        "3. Write a Python Program for array rotation?"
      ],
      "metadata": {
        "id": "6YvPULlcU4Eh"
      }
    },
    {
      "cell_type": "code",
      "source": [
        "arr2 = [5,6,7,8,9,10]\n",
        "\n",
        "print(arr2[::-1])\n"
      ],
      "metadata": {
        "colab": {
          "base_uri": "https://localhost:8080/"
        },
        "id": "NJkccCVcU44a",
        "outputId": "088943e2-0912-40e7-dbd9-f8b8e2480191"
      },
      "execution_count": 9,
      "outputs": [
        {
          "output_type": "stream",
          "name": "stdout",
          "text": [
            "[10, 9, 8, 7, 6, 5]\n"
          ]
        }
      ]
    },
    {
      "cell_type": "markdown",
      "source": [
        "4. Write a Python Program to Split the array and add the first part to the end?"
      ],
      "metadata": {
        "id": "WP5UQivXU5Br"
      }
    },
    {
      "cell_type": "code",
      "source": [
        "def split(arr,s):\n",
        "  lst = arr[:s]\n",
        "  return(arr[s::]+lst[::])\n",
        "\n",
        "arr=[2,3,4,5,6,7]\n",
        "split(arr,2)\n",
        "\n"
      ],
      "metadata": {
        "colab": {
          "base_uri": "https://localhost:8080/"
        },
        "id": "ZJ-JTK7jU8Lw",
        "outputId": "50c0dd4e-5063-421a-809c-c9f002fe71cc"
      },
      "execution_count": 17,
      "outputs": [
        {
          "output_type": "execute_result",
          "data": {
            "text/plain": [
              "[5, 6, 52, 36, 12, 10]"
            ]
          },
          "metadata": {},
          "execution_count": 17
        }
      ]
    },
    {
      "cell_type": "markdown",
      "source": [
        "5. Write a Python Program to check if given array is Monotonic?"
      ],
      "metadata": {
        "id": "YO9Y8Z85U9cR"
      }
    },
    {
      "cell_type": "code",
      "source": [
        "def monotonic(lst):\n",
        "  n = len(lst)\n",
        "  if n == 1:\n",
        "    return \"Monotonic\"\n",
        "  else:\n",
        "    if all(lst[i]>=lst[i+1] for i in range(0,n-1) or lst[i]<=lst[i+1] for i in range(0,n-1)):\n",
        "      return \"Monotonic\"\n",
        "    else:\n",
        "      return \"not Monotonic\"\n",
        "\n",
        "lst1 = [5,4,3,2,1]\n",
        "lst2 = [9,8,7,6]\n",
        "lst3 = [1,9,3,4,2,6]\n",
        "\n",
        "print(monotonic(lst1))\n",
        "print(monotonic(lst2))\n",
        "print(monotonic(lst3))\n",
        "      "
      ],
      "metadata": {
        "colab": {
          "base_uri": "https://localhost:8080/"
        },
        "id": "nasviuZcVATS",
        "outputId": "12201da3-87c0-4621-9289-a03383c87bb7"
      },
      "execution_count": 13,
      "outputs": [
        {
          "output_type": "stream",
          "name": "stdout",
          "text": [
            "Monotonic\n",
            "Monotonic\n",
            "not Monotonic\n"
          ]
        }
      ]
    },
    {
      "cell_type": "code",
      "source": [
        ""
      ],
      "metadata": {
        "id": "Xpxv73BFXPUP"
      },
      "execution_count": null,
      "outputs": []
    }
  ]
}