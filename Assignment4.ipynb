{
  "nbformat": 4,
  "nbformat_minor": 0,
  "metadata": {
    "colab": {
      "name": "Assignment4.ipynb",
      "provenance": [],
      "collapsed_sections": []
    },
    "kernelspec": {
      "name": "python3",
      "display_name": "Python 3"
    },
    "language_info": {
      "name": "python"
    }
  },
  "cells": [
    {
      "cell_type": "markdown",
      "source": [
        "1. Write a Python Program to Find the Factorial of a Number?"
      ],
      "metadata": {
        "id": "r-myEoHj3jPJ"
      }
    },
    {
      "cell_type": "markdown",
      "source": [
        "2. Write a Python Program to Display the multiplication Table?"
      ],
      "metadata": {
        "id": "kx__xNuk3klf"
      }
    },
    {
      "cell_type": "markdown",
      "source": [
        "1. Write a Python Program to Find the Factorial of a Number?"
      ],
      "metadata": {
        "id": "5EeM6X8T34fg"
      }
    },
    {
      "cell_type": "code",
      "source": [
        "def factorial(n):\n",
        "  if n < 2:\n",
        "    return 1\n",
        "  else:\n",
        "    return n * factorial(n-1)\n",
        "  \n",
        "factorial(4)"
      ],
      "metadata": {
        "colab": {
          "base_uri": "https://localhost:8080/"
        },
        "id": "ECBildmC4EbY",
        "outputId": "84498b4e-9475-478e-e2cc-d9740b9f0e1a"
      },
      "execution_count": 4,
      "outputs": [
        {
          "output_type": "execute_result",
          "data": {
            "text/plain": [
              "24"
            ]
          },
          "metadata": {},
          "execution_count": 4
        }
      ]
    },
    {
      "cell_type": "markdown",
      "source": [
        "2. Write a Python Program to Display the multiplication Table?"
      ],
      "metadata": {
        "id": "Gz9kOUDK39Bx"
      }
    },
    {
      "cell_type": "code",
      "source": [
        "def table(num):\n",
        "  for i in range(1,11):\n",
        "    print('{} X {} = {}'.format(num,i,num*i))\n",
        "\n",
        "table(12)"
      ],
      "metadata": {
        "colab": {
          "base_uri": "https://localhost:8080/"
        },
        "id": "9EfN9YNr4my1",
        "outputId": "7c0a19aa-81df-409e-fc15-b270a8c2bc4c"
      },
      "execution_count": 5,
      "outputs": [
        {
          "output_type": "stream",
          "name": "stdout",
          "text": [
            "12 X 1 = 12\n",
            "12 X 2 = 24\n",
            "12 X 3 = 36\n",
            "12 X 4 = 48\n",
            "12 X 5 = 60\n",
            "12 X 6 = 72\n",
            "12 X 7 = 84\n",
            "12 X 8 = 96\n",
            "12 X 9 = 108\n",
            "12 X 10 = 120\n"
          ]
        }
      ]
    },
    {
      "cell_type": "markdown",
      "source": [
        "3. Write a Python Program to Print the Fibonacci sequence?"
      ],
      "metadata": {
        "id": "XAfvTu2v3onv"
      }
    },
    {
      "cell_type": "code",
      "source": [
        "a=int(input(\"Enter the terms\"))\n",
        "f=0                                         #first element of series\n",
        "s=1                                         #second element of series\n",
        "if a<=0:\n",
        "    print(\"The requested series is\",f)\n",
        "else:\n",
        "    print(f,s,end=\" \")\n",
        "    for x in range(2,a):\n",
        "        next=f+s                           \n",
        "        print(next,end=\" \")\n",
        "        f=s\n",
        "        s=next"
      ],
      "metadata": {
        "colab": {
          "base_uri": "https://localhost:8080/"
        },
        "id": "kl2ezspq4-_q",
        "outputId": "19ed7e1a-c24c-4d77-8456-b6a01196aca2"
      },
      "execution_count": 6,
      "outputs": [
        {
          "output_type": "stream",
          "name": "stdout",
          "text": [
            "Enter the terms5\n",
            "0 1 1 2 3 "
          ]
        }
      ]
    },
    {
      "cell_type": "code",
      "source": [
        "def fib(num):\n",
        "  a = 0\n",
        "  b = 1\n",
        "  if num < 1:\n",
        "    print(a)\n",
        "  else:\n",
        "    print(a,b,end=\" \")\n",
        "    for i in range(2,num):\n",
        "      x = a + b\n",
        "      print(x, end=\" \")\n",
        "      a = b\n",
        "      b = x\n",
        "\n",
        "fib(5)"
      ],
      "metadata": {
        "colab": {
          "base_uri": "https://localhost:8080/"
        },
        "id": "k16fgrEO9t9t",
        "outputId": "41acecb8-a2b5-4ed5-edab-115b3284ad93"
      },
      "execution_count": 11,
      "outputs": [
        {
          "output_type": "stream",
          "name": "stdout",
          "text": [
            "0 1 1 2 3 "
          ]
        }
      ]
    },
    {
      "cell_type": "markdown",
      "source": [
        "4. Write a Python Program to Check Armstrong Number?"
      ],
      "metadata": {
        "id": "mhFzXVDe3rJM"
      }
    },
    {
      "cell_type": "code",
      "source": [
        "def armstrong(num):\n",
        "  a = str(num)\n",
        "  s = 0\n",
        "  for i in range(len(a)):\n",
        "    if len(a) <= 3:\n",
        "      s += int(a[i])**3\n",
        "    elif len(a)==4:\n",
        "      s += int(a[i])**4\n",
        "  if s == num:\n",
        "    return \"armstrong\"\n",
        "  else:\n",
        "    return \"not armstrong\"\n",
        "\n",
        "armstrong(153)\n"
      ],
      "metadata": {
        "colab": {
          "base_uri": "https://localhost:8080/",
          "height": 36
        },
        "id": "oCCqOO8o-cgt",
        "outputId": "f92258a7-613c-44e9-9bda-236dc7b7feb9"
      },
      "execution_count": 21,
      "outputs": [
        {
          "output_type": "execute_result",
          "data": {
            "text/plain": [
              "'armstrong'"
            ],
            "application/vnd.google.colaboratory.intrinsic+json": {
              "type": "string"
            }
          },
          "metadata": {},
          "execution_count": 21
        }
      ]
    },
    {
      "cell_type": "markdown",
      "source": [
        "5. Write a Python Program to Find Armstrong Number in an Interval?"
      ],
      "metadata": {
        "id": "OVXsDAsl3vtI"
      }
    },
    {
      "cell_type": "code",
      "source": [
        "for i in range(2000):\n",
        "  if armstrong(i) == 'armstrong':\n",
        "    print(i)"
      ],
      "metadata": {
        "colab": {
          "base_uri": "https://localhost:8080/"
        },
        "id": "HRo39zMh_7ll",
        "outputId": "478e4108-2954-4511-c2a2-bc6670c8d4ba"
      },
      "execution_count": 22,
      "outputs": [
        {
          "output_type": "stream",
          "name": "stdout",
          "text": [
            "0\n",
            "1\n",
            "153\n",
            "370\n",
            "371\n",
            "407\n",
            "1634\n"
          ]
        }
      ]
    },
    {
      "cell_type": "markdown",
      "source": [
        "6. Write a Python Program to Find the Sum of Natural Numbers?"
      ],
      "metadata": {
        "id": "KQ_NeMcq3yaR"
      }
    },
    {
      "cell_type": "code",
      "source": [
        "def snn(n):\n",
        "  return (n*(n+1))/2\n",
        "\n",
        "snn(5)"
      ],
      "metadata": {
        "colab": {
          "base_uri": "https://localhost:8080/"
        },
        "id": "ntTz7LyIBWb3",
        "outputId": "5ef6b5d7-e8a0-4cda-ca3d-4d861a22cbcb"
      },
      "execution_count": 23,
      "outputs": [
        {
          "output_type": "execute_result",
          "data": {
            "text/plain": [
              "15.0"
            ]
          },
          "metadata": {},
          "execution_count": 23
        }
      ]
    },
    {
      "cell_type": "code",
      "source": [
        ""
      ],
      "metadata": {
        "id": "sQIvFxXKBsLT"
      },
      "execution_count": null,
      "outputs": []
    }
  ]
}