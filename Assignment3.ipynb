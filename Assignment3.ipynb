{
  "nbformat": 4,
  "nbformat_minor": 0,
  "metadata": {
    "colab": {
      "name": "Assignment3.ipynb",
      "provenance": [],
      "collapsed_sections": []
    },
    "kernelspec": {
      "name": "python3",
      "display_name": "Python 3"
    },
    "language_info": {
      "name": "python"
    }
  },
  "cells": [
    {
      "cell_type": "markdown",
      "source": [
        "1. Write a Python Program to Check if a Number is Positive, Negative or Zero?\n"
      ],
      "metadata": {
        "id": "wDp4198W7MYQ"
      }
    },
    {
      "cell_type": "code",
      "source": [
        "num = 5\n",
        "if num > 0:\n",
        "  print(num, \"is positive number\")\n",
        "elif num < 0:\n",
        "  print(num, \"is negative number\")\n",
        "else:\n",
        "  print(\"zero\")"
      ],
      "metadata": {
        "colab": {
          "base_uri": "https://localhost:8080/"
        },
        "id": "z7uwmjDk7N7H",
        "outputId": "30d7448c-85a9-4bd3-aabc-988d706cf22d"
      },
      "execution_count": null,
      "outputs": [
        {
          "output_type": "stream",
          "name": "stdout",
          "text": [
            "5 is positive number\n"
          ]
        }
      ]
    },
    {
      "cell_type": "markdown",
      "source": [
        "2. Write a Python Program to Check if a Number is Odd or Even?"
      ],
      "metadata": {
        "id": "vUkuGsRx7O1S"
      }
    },
    {
      "cell_type": "code",
      "source": [
        "def odd_even(num):\n",
        "  if num % 2 == 0:\n",
        "    return (\"{} is even number\".format(num))\n",
        "  else:\n",
        "    return(\"{} is odd number\".format(num))\n",
        "\n",
        "odd_even(67)"
      ],
      "metadata": {
        "colab": {
          "base_uri": "https://localhost:8080/",
          "height": 36
        },
        "id": "zBJkkTCM7SDX",
        "outputId": "f740c466-153d-4b32-aa17-5b908ee95d53"
      },
      "execution_count": null,
      "outputs": [
        {
          "output_type": "execute_result",
          "data": {
            "text/plain": [
              "'67 is odd number'"
            ],
            "application/vnd.google.colaboratory.intrinsic+json": {
              "type": "string"
            }
          },
          "metadata": {},
          "execution_count": 4
        }
      ]
    },
    {
      "cell_type": "markdown",
      "source": [
        "3. Write a Python Program to Check Leap Year?"
      ],
      "metadata": {
        "id": "tPakc9ph7U4h"
      }
    },
    {
      "cell_type": "code",
      "source": [
        "def leap(year):\n",
        "  if (year % 400 == 0) and (year % 100 == 0):\n",
        "    return ('{} is a leap year'.format(year)) \n",
        "  elif (year % 4 == 0) and (year % 100 != 0):\n",
        "    return ('{} is a leap year'.format(year))\n",
        "  else:\n",
        "    return('{} is not a leap year'.format(year))\n",
        "\n",
        "leap(1900)"
      ],
      "metadata": {
        "colab": {
          "base_uri": "https://localhost:8080/",
          "height": 36
        },
        "id": "oR-Osxj48qlp",
        "outputId": "f73f3d95-4813-4c52-838b-4d9a0a98e0cd"
      },
      "execution_count": null,
      "outputs": [
        {
          "output_type": "execute_result",
          "data": {
            "text/plain": [
              "'1900 is not a leap year'"
            ],
            "application/vnd.google.colaboratory.intrinsic+json": {
              "type": "string"
            }
          },
          "metadata": {},
          "execution_count": 7
        }
      ]
    },
    {
      "cell_type": "markdown",
      "source": [
        "4. Write a Python Program to Check Prime Number?"
      ],
      "metadata": {
        "id": "mehgZqD47Zih"
      }
    },
    {
      "cell_type": "code",
      "source": [
        "num = 4\n",
        "for i in range(2,num):\n",
        "  if num % i == 0:\n",
        "    print('{} is not a prime number'.format(num))\n",
        "    break\n",
        "else:\n",
        "  print('{} is prime number'.format(num))\n",
        "\n"
      ],
      "metadata": {
        "colab": {
          "base_uri": "https://localhost:8080/"
        },
        "id": "JzwtyQAo-CEk",
        "outputId": "00aa73dd-76f1-4259-8c9e-61d55c7a465b"
      },
      "execution_count": null,
      "outputs": [
        {
          "output_type": "stream",
          "name": "stdout",
          "text": [
            "4 is not a prime number\n"
          ]
        }
      ]
    },
    {
      "cell_type": "markdown",
      "source": [
        "5. Write a Python Program to Print all Prime Numbers in an Interval of 1-10000?"
      ],
      "metadata": {
        "id": "p9kxrMNS7dXp"
      }
    },
    {
      "cell_type": "code",
      "source": [
        "def prime(num):\n",
        "  if num < 2:\n",
        "    return \"not prime\"\n",
        "  else:\n",
        "    for i in range(2,num):\n",
        "      if num % i == 0:\n",
        "        return 'not prime'\n",
        "        break\n",
        "    else:\n",
        "      return 'prime'\n",
        "      \n",
        "for i in range(1,1000):\n",
        "  if prime(i) == 'prime':\n",
        "    print(i)\n",
        "    "
      ],
      "metadata": {
        "id": "J1WaLDH6_pVe",
        "colab": {
          "base_uri": "https://localhost:8080/"
        },
        "outputId": "0c42210e-9136-45a5-dda2-393a837065f1"
      },
      "execution_count": 4,
      "outputs": [
        {
          "output_type": "stream",
          "name": "stdout",
          "text": [
            "2\n",
            "1\n",
            "3\n",
            "2\n",
            "5\n",
            "3\n",
            "7\n",
            "4\n",
            "11\n",
            "5\n",
            "13\n",
            "6\n",
            "17\n",
            "7\n",
            "19\n",
            "8\n",
            "23\n",
            "9\n",
            "29\n",
            "10\n",
            "31\n",
            "11\n",
            "37\n",
            "12\n",
            "41\n",
            "13\n",
            "43\n",
            "14\n",
            "47\n",
            "15\n",
            "53\n",
            "16\n",
            "59\n",
            "17\n",
            "61\n",
            "18\n",
            "67\n",
            "19\n",
            "71\n",
            "20\n",
            "73\n",
            "21\n",
            "79\n",
            "22\n",
            "83\n",
            "23\n",
            "89\n",
            "24\n",
            "97\n",
            "25\n",
            "101\n",
            "26\n",
            "103\n",
            "27\n",
            "107\n",
            "28\n",
            "109\n",
            "29\n",
            "113\n",
            "30\n",
            "127\n",
            "31\n",
            "131\n",
            "32\n",
            "137\n",
            "33\n",
            "139\n",
            "34\n",
            "149\n",
            "35\n",
            "151\n",
            "36\n",
            "157\n",
            "37\n",
            "163\n",
            "38\n",
            "167\n",
            "39\n",
            "173\n",
            "40\n",
            "179\n",
            "41\n",
            "181\n",
            "42\n",
            "191\n",
            "43\n",
            "193\n",
            "44\n",
            "197\n",
            "45\n",
            "199\n",
            "46\n",
            "211\n",
            "47\n",
            "223\n",
            "48\n",
            "227\n",
            "49\n",
            "229\n",
            "50\n",
            "233\n",
            "51\n",
            "239\n",
            "52\n",
            "241\n",
            "53\n",
            "251\n",
            "54\n",
            "257\n",
            "55\n",
            "263\n",
            "56\n",
            "269\n",
            "57\n",
            "271\n",
            "58\n",
            "277\n",
            "59\n",
            "281\n",
            "60\n",
            "283\n",
            "61\n",
            "293\n",
            "62\n",
            "307\n",
            "63\n",
            "311\n",
            "64\n",
            "313\n",
            "65\n",
            "317\n",
            "66\n",
            "331\n",
            "67\n",
            "337\n",
            "68\n",
            "347\n",
            "69\n",
            "349\n",
            "70\n",
            "353\n",
            "71\n",
            "359\n",
            "72\n",
            "367\n",
            "73\n",
            "373\n",
            "74\n",
            "379\n",
            "75\n",
            "383\n",
            "76\n",
            "389\n",
            "77\n",
            "397\n",
            "78\n",
            "401\n",
            "79\n",
            "409\n",
            "80\n",
            "419\n",
            "81\n",
            "421\n",
            "82\n",
            "431\n",
            "83\n",
            "433\n",
            "84\n",
            "439\n",
            "85\n",
            "443\n",
            "86\n",
            "449\n",
            "87\n",
            "457\n",
            "88\n",
            "461\n",
            "89\n",
            "463\n",
            "90\n",
            "467\n",
            "91\n",
            "479\n",
            "92\n",
            "487\n",
            "93\n",
            "491\n",
            "94\n",
            "499\n",
            "95\n",
            "503\n",
            "96\n",
            "509\n",
            "97\n",
            "521\n",
            "98\n",
            "523\n",
            "99\n",
            "541\n",
            "100\n",
            "547\n",
            "101\n",
            "557\n",
            "102\n",
            "563\n",
            "103\n",
            "569\n",
            "104\n",
            "571\n",
            "105\n",
            "577\n",
            "106\n",
            "587\n",
            "107\n",
            "593\n",
            "108\n",
            "599\n",
            "109\n",
            "601\n",
            "110\n",
            "607\n",
            "111\n",
            "613\n",
            "112\n",
            "617\n",
            "113\n",
            "619\n",
            "114\n",
            "631\n",
            "115\n",
            "641\n",
            "116\n",
            "643\n",
            "117\n",
            "647\n",
            "118\n",
            "653\n",
            "119\n",
            "659\n",
            "120\n",
            "661\n",
            "121\n",
            "673\n",
            "122\n",
            "677\n",
            "123\n",
            "683\n",
            "124\n",
            "691\n",
            "125\n",
            "701\n",
            "126\n",
            "709\n",
            "127\n",
            "719\n",
            "128\n",
            "727\n",
            "129\n",
            "733\n",
            "130\n",
            "739\n",
            "131\n",
            "743\n",
            "132\n",
            "751\n",
            "133\n",
            "757\n",
            "134\n",
            "761\n",
            "135\n",
            "769\n",
            "136\n",
            "773\n",
            "137\n",
            "787\n",
            "138\n",
            "797\n",
            "139\n",
            "809\n",
            "140\n",
            "811\n",
            "141\n",
            "821\n",
            "142\n",
            "823\n",
            "143\n",
            "827\n",
            "144\n",
            "829\n",
            "145\n",
            "839\n",
            "146\n",
            "853\n",
            "147\n",
            "857\n",
            "148\n",
            "859\n",
            "149\n",
            "863\n",
            "150\n",
            "877\n",
            "151\n",
            "881\n",
            "152\n",
            "883\n",
            "153\n",
            "887\n",
            "154\n",
            "907\n",
            "155\n",
            "911\n",
            "156\n",
            "919\n",
            "157\n",
            "929\n",
            "158\n",
            "937\n",
            "159\n",
            "941\n",
            "160\n",
            "947\n",
            "161\n",
            "953\n",
            "162\n",
            "967\n",
            "163\n",
            "971\n",
            "164\n",
            "977\n",
            "165\n",
            "983\n",
            "166\n",
            "991\n",
            "167\n",
            "997\n",
            "168\n"
          ]
        }
      ]
    },
    {
      "cell_type": "code",
      "source": [
        ""
      ],
      "metadata": {
        "id": "Kz4oHZtM2R5q"
      },
      "execution_count": null,
      "outputs": []
    }
  ]
}