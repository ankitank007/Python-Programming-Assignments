{
  "nbformat": 4,
  "nbformat_minor": 0,
  "metadata": {
    "colab": {
      "name": "Assignment2.ipynb",
      "provenance": []
    },
    "kernelspec": {
      "name": "python3",
      "display_name": "Python 3"
    },
    "language_info": {
      "name": "python"
    }
  },
  "cells": [
    {
      "cell_type": "markdown",
      "source": [
        "1. Write a Python program to convert kilometers to miles?\n"
      ],
      "metadata": {
        "id": "v92PpVxf0b2t"
      }
    },
    {
      "cell_type": "code",
      "source": [
        "km = 50\n",
        "miles = km * 0.621371 # 1 kilometer = 0.621371 miles\n",
        "print(miles)"
      ],
      "metadata": {
        "colab": {
          "base_uri": "https://localhost:8080/"
        },
        "id": "sHQ90lPn0dWz",
        "outputId": "f5098806-2094-4e6a-c737-a7e25ae8cac1"
      },
      "execution_count": 1,
      "outputs": [
        {
          "output_type": "stream",
          "name": "stdout",
          "text": [
            "31.068550000000002\n"
          ]
        }
      ]
    },
    {
      "cell_type": "markdown",
      "source": [
        "2. Write a Python program to convert Celsius to Fahrenheit?"
      ],
      "metadata": {
        "id": "dEx10lcI0d3k"
      }
    },
    {
      "cell_type": "code",
      "source": [
        "c = 100\n",
        "f = (c * (9/5)) + 32\n",
        "print(f)"
      ],
      "metadata": {
        "colab": {
          "base_uri": "https://localhost:8080/"
        },
        "id": "3lgp6_OT0gcC",
        "outputId": "b8b99b27-27fa-4d01-c734-183c768e9aa1"
      },
      "execution_count": 2,
      "outputs": [
        {
          "output_type": "stream",
          "name": "stdout",
          "text": [
            "212.0\n"
          ]
        }
      ]
    },
    {
      "cell_type": "markdown",
      "source": [
        "3. Write a Python program to display calendar?"
      ],
      "metadata": {
        "id": "Nc2x94kj0hTT"
      }
    },
    {
      "cell_type": "code",
      "source": [
        "import calendar\n",
        "mm = 12\n",
        "y = 2012\n",
        "print(calendar.month(y,mm))"
      ],
      "metadata": {
        "colab": {
          "base_uri": "https://localhost:8080/"
        },
        "id": "MTTjTjwC0mJK",
        "outputId": "b073468f-77b7-4605-e87a-ea3730971dff"
      },
      "execution_count": 7,
      "outputs": [
        {
          "output_type": "stream",
          "name": "stdout",
          "text": [
            "   December 2012\n",
            "Mo Tu We Th Fr Sa Su\n",
            "                1  2\n",
            " 3  4  5  6  7  8  9\n",
            "10 11 12 13 14 15 16\n",
            "17 18 19 20 21 22 23\n",
            "24 25 26 27 28 29 30\n",
            "31\n",
            "\n"
          ]
        }
      ]
    },
    {
      "cell_type": "markdown",
      "source": [
        "4. Write a Python program to solve quadratic equation?"
      ],
      "metadata": {
        "id": "Na7gNuXy0myL"
      }
    },
    {
      "cell_type": "code",
      "source": [
        "# general form of quadratic equation is ax^2 + bx + c = 0 \n",
        "# if b^2 - 4a*c >= 0 then we have real roots, so here we are only making a code for real roots\n",
        "import math\n",
        "def quadratic(a,b,c):\n",
        "  root1 = (-b-math.sqrt((b**2) - (4*a*c)))/(2*a)\n",
        "  root2 = (-b+math.sqrt((b**2) - (4*a*c)))/(2*a)\n",
        "  return(root1, root2)\n",
        "\n",
        "quadratic(2,3,1)\n",
        "\n"
      ],
      "metadata": {
        "colab": {
          "base_uri": "https://localhost:8080/"
        },
        "id": "k4hTDeya0uFi",
        "outputId": "14ea1367-8643-42ad-9faa-3c180cc93f94"
      },
      "execution_count": 13,
      "outputs": [
        {
          "output_type": "execute_result",
          "data": {
            "text/plain": [
              "(-1.0, -0.5)"
            ]
          },
          "metadata": {},
          "execution_count": 13
        }
      ]
    },
    {
      "cell_type": "markdown",
      "source": [
        "5. Write a Python program to swap two variables without temp variable?"
      ],
      "metadata": {
        "id": "55Ri-wsS0qaE"
      }
    },
    {
      "cell_type": "code",
      "source": [
        "a = 5\n",
        "b = 6\n",
        "a,b = b,a\n",
        "print(\"a:\",a)\n",
        "print(\"b:\",b)"
      ],
      "metadata": {
        "colab": {
          "base_uri": "https://localhost:8080/"
        },
        "id": "k9--dp5s6Lv_",
        "outputId": "b2ac2d35-3e99-4da7-9ba0-c0fda6b20125"
      },
      "execution_count": 16,
      "outputs": [
        {
          "output_type": "stream",
          "name": "stdout",
          "text": [
            "a: 6\n",
            "b: 5\n"
          ]
        }
      ]
    },
    {
      "cell_type": "code",
      "source": [
        ""
      ],
      "metadata": {
        "id": "T_K1VxIX61lW"
      },
      "execution_count": null,
      "outputs": []
    }
  ]
}