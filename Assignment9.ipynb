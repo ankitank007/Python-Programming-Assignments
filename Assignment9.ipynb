{
  "nbformat": 4,
  "nbformat_minor": 0,
  "metadata": {
    "colab": {
      "name": "Assignment9.ipynb",
      "provenance": [],
      "collapsed_sections": []
    },
    "kernelspec": {
      "name": "python3",
      "display_name": "Python 3"
    },
    "language_info": {
      "name": "python"
    }
  },
  "cells": [
    {
      "cell_type": "markdown",
      "source": [
        "1. Write a Python program to check if the given number is a Disarium Number?"
      ],
      "metadata": {
        "id": "J9UfwETFoRnz"
      }
    },
    {
      "cell_type": "code",
      "source": [
        "def isDisarium(num):\n",
        "  a = str(num)\n",
        "  su = 0\n",
        "  for i in range(len(a)):\n",
        "    su += int(a[i])**(i+1)\n",
        "  if su == num:\n",
        "    return True\n",
        "  else:\n",
        "    return False\n",
        "\n",
        "isDisarium(19)"
      ],
      "metadata": {
        "colab": {
          "base_uri": "https://localhost:8080/"
        },
        "id": "m5AuriPioSTM",
        "outputId": "2e5a601b-dce7-44e6-98e0-24045332866b"
      },
      "execution_count": null,
      "outputs": [
        {
          "output_type": "execute_result",
          "data": {
            "text/plain": [
              "False"
            ]
          },
          "metadata": {},
          "execution_count": 3
        }
      ]
    },
    {
      "cell_type": "markdown",
      "source": [
        "2. Write a Python program to print all disarium numbers between 1 to 100?"
      ],
      "metadata": {
        "id": "zBFiteraoS2j"
      }
    },
    {
      "cell_type": "code",
      "source": [
        "for i in range(1,100):\n",
        "  if isDisarium(i) == True:\n",
        "    print(i, end= \" \")"
      ],
      "metadata": {
        "colab": {
          "base_uri": "https://localhost:8080/"
        },
        "id": "Bg1Ooww4oVp6",
        "outputId": "d8d1b03f-9f66-47f8-8f29-48abe7fd52b5"
      },
      "execution_count": null,
      "outputs": [
        {
          "output_type": "stream",
          "name": "stdout",
          "text": [
            "1 2 3 4 5 6 7 8 9 89 "
          ]
        }
      ]
    },
    {
      "cell_type": "markdown",
      "source": [
        "3. Write a Python program to check if the given number is Happy Number?"
      ],
      "metadata": {
        "id": "tjMIT-H4oV1R"
      }
    },
    {
      "cell_type": "code",
      "source": [
        "def Happy_number(num):\n",
        "  prev = set()\n",
        "  while num != 1:\n",
        "    num = sum(int(i)**2 for i in str(num))\n",
        "    if num in prev:\n",
        "      return False\n",
        "    prev.add(num)\n",
        "  return True\n",
        "\n",
        "Happy_number(7)"
      ],
      "metadata": {
        "colab": {
          "base_uri": "https://localhost:8080/"
        },
        "id": "216YZzKIoYNx",
        "outputId": "0ba00de6-558c-4f76-e94b-74fca6218527"
      },
      "execution_count": null,
      "outputs": [
        {
          "output_type": "execute_result",
          "data": {
            "text/plain": [
              "True"
            ]
          },
          "metadata": {},
          "execution_count": 2
        }
      ]
    },
    {
      "cell_type": "markdown",
      "source": [
        "4. Write a Python program to print all happy numbers between 1 and 100?"
      ],
      "metadata": {
        "id": "vKoMafvAoYX6"
      }
    },
    {
      "cell_type": "code",
      "source": [
        "for i in range(1,100):\n",
        "  if Happy_number(i) == True:\n",
        "    print(i,end=\" \")"
      ],
      "metadata": {
        "colab": {
          "base_uri": "https://localhost:8080/"
        },
        "id": "lise8SNqobAy",
        "outputId": "e2a40c56-5d7c-417c-d838-eecb3a21e88f"
      },
      "execution_count": null,
      "outputs": [
        {
          "output_type": "stream",
          "name": "stdout",
          "text": [
            "1 7 10 13 19 23 28 31 32 44 49 68 70 79 82 86 91 94 97 "
          ]
        }
      ]
    },
    {
      "cell_type": "markdown",
      "source": [
        "5. Write a Python program to determine whether the given number is a Harshad Number?"
      ],
      "metadata": {
        "id": "knhP3pY-obLy"
      }
    },
    {
      "cell_type": "code",
      "source": [
        "def isharshad(num):\n",
        "  a = str(num)\n",
        "  su = 0\n",
        "  for i in a:\n",
        "    su += int(i)\n",
        "\n",
        "  if num % su == 0:\n",
        "    return True\n",
        "  else:\n",
        "    return False\n",
        "\n",
        "isharshad(18)\n",
        "\n",
        "for i in range(1,100):\n",
        "  if isharshad(i) == True:\n",
        "    print(i,end = \" \")\n"
      ],
      "metadata": {
        "id": "fYYPiFOWogDr",
        "colab": {
          "base_uri": "https://localhost:8080/"
        },
        "outputId": "7f8fa03f-a433-47c0-cbbd-46feb7e3793f"
      },
      "execution_count": 6,
      "outputs": [
        {
          "output_type": "stream",
          "name": "stdout",
          "text": [
            "1 2 3 4 5 6 7 8 9 10 12 18 20 21 24 27 30 36 40 42 45 48 50 54 60 63 70 72 80 81 84 90 "
          ]
        }
      ]
    },
    {
      "cell_type": "markdown",
      "source": [
        "6. Write a Python program to print all pronic numbers between 1 and 100?"
      ],
      "metadata": {
        "id": "6HRb3HvHog_q"
      }
    },
    {
      "cell_type": "code",
      "source": [
        "for i in range(0,100):\n",
        "  print(i*(i+1),end = \" \")"
      ],
      "metadata": {
        "id": "dgSI02cwoj0y",
        "colab": {
          "base_uri": "https://localhost:8080/"
        },
        "outputId": "e2e91f34-f9c8-442b-efc4-968e38834cd1"
      },
      "execution_count": 5,
      "outputs": [
        {
          "output_type": "stream",
          "name": "stdout",
          "text": [
            "0 2 6 12 20 30 42 56 72 90 110 132 156 182 210 240 272 306 342 380 420 462 506 552 600 650 702 756 812 870 930 992 1056 1122 1190 1260 1332 1406 1482 1560 1640 1722 1806 1892 1980 2070 2162 2256 2352 2450 2550 2652 2756 2862 2970 3080 3192 3306 3422 3540 3660 3782 3906 4032 4160 4290 4422 4556 4692 4830 4970 5112 5256 5402 5550 5700 5852 6006 6162 6320 6480 6642 6806 6972 7140 7310 7482 7656 7832 8010 8190 8372 8556 8742 8930 9120 9312 9506 9702 9900 "
          ]
        }
      ]
    },
    {
      "cell_type": "code",
      "source": [
        ""
      ],
      "metadata": {
        "id": "wsM8hPB9-yfI"
      },
      "execution_count": null,
      "outputs": []
    }
  ]
}