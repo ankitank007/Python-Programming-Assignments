{
  "nbformat": 4,
  "nbformat_minor": 0,
  "metadata": {
    "colab": {
      "name": "Assignment8.ipynb",
      "provenance": [],
      "collapsed_sections": []
    },
    "kernelspec": {
      "name": "python3",
      "display_name": "Python 3"
    },
    "language_info": {
      "name": "python"
    }
  },
  "cells": [
    {
      "cell_type": "markdown",
      "source": [
        "1. Write a Python Program to Add Two Matrices?"
      ],
      "metadata": {
        "id": "OHtRHWJuh8f8"
      }
    },
    {
      "cell_type": "code",
      "source": [
        "def mat_add(mat1,mat2):\n",
        "  msum = [[0,0,0],[0,0,0]]\n",
        "  for i in range(len(mat1)):\n",
        "    for j in range(len(mat2)+1):\n",
        "      msum[i][j] = mat1[i][j] + mat2[i][j]\n",
        "\n",
        "  return msum\n",
        "\n",
        "mat1 = [[1,2,3],[3,4,5]]\n",
        "mat2 = [[7,8,9],[10,11,12]]\n",
        "mat_add(mat1,mat2)"
      ],
      "metadata": {
        "colab": {
          "base_uri": "https://localhost:8080/"
        },
        "id": "PcNAUS0Gh_E2",
        "outputId": "0a3d4ac2-d946-47c0-d01e-aec0b5791798"
      },
      "execution_count": 8,
      "outputs": [
        {
          "output_type": "execute_result",
          "data": {
            "text/plain": [
              "[[8, 10, 12], [13, 15, 17]]"
            ]
          },
          "metadata": {},
          "execution_count": 8
        }
      ]
    },
    {
      "cell_type": "markdown",
      "source": [
        "2. Write a Python Program to Multiply Two Matrices?"
      ],
      "metadata": {
        "id": "OyzwgxCjh_Wk"
      }
    },
    {
      "cell_type": "code",
      "source": [
        "import numpy as np\n",
        "mat1 = [[1,2,3],[4,5,6],[7,8,9]]\n",
        "mat2 = [[3,4,5],[5,6,7],[8,9,7]]\n",
        "np.dot(mat1,mat2)"
      ],
      "metadata": {
        "colab": {
          "base_uri": "https://localhost:8080/"
        },
        "id": "x4s6QfqWiAVE",
        "outputId": "c24c57dd-b8af-4fc7-f64d-f08b84d2dac6"
      },
      "execution_count": 20,
      "outputs": [
        {
          "output_type": "execute_result",
          "data": {
            "text/plain": [
              "array([[ 37,  43,  40],\n",
              "       [ 85, 100,  97],\n",
              "       [133, 157, 154]])"
            ]
          },
          "metadata": {},
          "execution_count": 20
        }
      ]
    },
    {
      "cell_type": "markdown",
      "source": [
        "3. Write a Python Program to Transpose a Matrix?"
      ],
      "metadata": {
        "id": "QFkOuxaZiApL"
      }
    },
    {
      "cell_type": "code",
      "source": [
        "import numpy as np\n",
        "mat = [[1,2,3],[4,5,6]]\n",
        "np.transpose(mat)"
      ],
      "metadata": {
        "colab": {
          "base_uri": "https://localhost:8080/"
        },
        "id": "Ij8I5jGUiDLk",
        "outputId": "eee24525-c51f-4ee4-84e3-197db712c85d"
      },
      "execution_count": 21,
      "outputs": [
        {
          "output_type": "execute_result",
          "data": {
            "text/plain": [
              "array([[1, 4],\n",
              "       [2, 5],\n",
              "       [3, 6]])"
            ]
          },
          "metadata": {},
          "execution_count": 21
        }
      ]
    },
    {
      "cell_type": "markdown",
      "source": [
        "4. Write a Python Program to Sort Words in Alphabetic Order?"
      ],
      "metadata": {
        "id": "CFuPhT0eiDj8"
      }
    },
    {
      "cell_type": "code",
      "source": [
        "a = 'hi my name is john and I love to do programming'\n",
        "b = [word.lower() for word in a.split()]\n",
        "b.sort()\n",
        "print(b)\n",
        "\n"
      ],
      "metadata": {
        "colab": {
          "base_uri": "https://localhost:8080/"
        },
        "id": "mqGCErQEiGZv",
        "outputId": "0b5fd31f-7d9e-4d06-9a0f-1f24aa201fbe"
      },
      "execution_count": 19,
      "outputs": [
        {
          "output_type": "stream",
          "name": "stdout",
          "text": [
            "['and', 'do', 'hi', 'i', 'is', 'john', 'love', 'my', 'name', 'programming', 'to']\n"
          ]
        }
      ]
    },
    {
      "cell_type": "markdown",
      "source": [
        "5. Write a Python Program to Remove Punctuation From a String?"
      ],
      "metadata": {
        "id": "-pa1PgumiGlt"
      }
    },
    {
      "cell_type": "code",
      "source": [
        "punc = '''!()-[]{};:'\"\\,<>./?@#$%^&*_~'''\n",
        "\n",
        "string = \"My,..' Pleasure!\"\n",
        "for i in string:\n",
        "  if i in punc:\n",
        "    string = string.replace(i,\"\")\n",
        "\n",
        "print(string)"
      ],
      "metadata": {
        "colab": {
          "base_uri": "https://localhost:8080/"
        },
        "id": "HgttyynniJqc",
        "outputId": "9b75fb8d-ddca-4944-861c-d8ee917caa6f"
      },
      "execution_count": 9,
      "outputs": [
        {
          "output_type": "stream",
          "name": "stdout",
          "text": [
            "My Pleasure\n"
          ]
        }
      ]
    },
    {
      "cell_type": "code",
      "source": [
        ""
      ],
      "metadata": {
        "id": "SbIUtizvlt0L"
      },
      "execution_count": null,
      "outputs": []
    }
  ]
}