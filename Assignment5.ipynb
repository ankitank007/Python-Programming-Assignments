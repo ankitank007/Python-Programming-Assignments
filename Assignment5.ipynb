{
  "nbformat": 4,
  "nbformat_minor": 0,
  "metadata": {
    "colab": {
      "name": "Assignment5.ipynb",
      "provenance": [],
      "collapsed_sections": []
    },
    "kernelspec": {
      "name": "python3",
      "display_name": "Python 3"
    },
    "language_info": {
      "name": "python"
    }
  },
  "cells": [
    {
      "cell_type": "markdown",
      "source": [
        "1. Write a Python Program to Find LCM?\n"
      ],
      "metadata": {
        "id": "Ki5GwKqW3sMf"
      }
    },
    {
      "cell_type": "code",
      "execution_count": 10,
      "metadata": {
        "colab": {
          "base_uri": "https://localhost:8080/"
        },
        "id": "-J0srAf209gD",
        "outputId": "ec21a21e-7eb0-4a2d-9529-d3d7eff9d330"
      },
      "outputs": [
        {
          "output_type": "execute_result",
          "data": {
            "text/plain": [
              "15.0"
            ]
          },
          "metadata": {},
          "execution_count": 10
        }
      ],
      "source": [
        "def hcf(a,b):\n",
        "  while (b):\n",
        "    a,b = b, a%b\n",
        "  return a\n",
        "def LCM(num1,num2):\n",
        "  lcm = (num1*num2)/hcf(num1,num2)\n",
        "  return lcm\n",
        "\n",
        "LCM(5,3)"
      ]
    },
    {
      "cell_type": "markdown",
      "source": [
        "2. Write a Python Program to Find HCF?"
      ],
      "metadata": {
        "id": "1S2zZw5_3wsv"
      }
    },
    {
      "cell_type": "code",
      "source": [
        "def hcf(a,b):\n",
        "  while (b):\n",
        "    a,b = b, a%b\n",
        "  return a\n",
        "\n",
        "hcf(6,16)"
      ],
      "metadata": {
        "colab": {
          "base_uri": "https://localhost:8080/"
        },
        "id": "vFnbpBpg4RGI",
        "outputId": "a87d5351-9b62-4990-d439-329d090e9cb0"
      },
      "execution_count": 11,
      "outputs": [
        {
          "output_type": "execute_result",
          "data": {
            "text/plain": [
              "2"
            ]
          },
          "metadata": {},
          "execution_count": 11
        }
      ]
    },
    {
      "cell_type": "markdown",
      "source": [
        "3. Write a Python Program to Convert Decimal to Binary, Octal and Hexadecimal?"
      ],
      "metadata": {
        "id": "v81U2N993y-I"
      }
    },
    {
      "cell_type": "code",
      "source": [
        "def decimal_to_binary(num):\n",
        "  return bin(num).replace(\"0b\", \"\")\n",
        "\n",
        "\n",
        "def decimal_to_octal(num):\n",
        "  return oct(num).replace(\"0o\", \"\")\n",
        "\n",
        "\n",
        "def decimal_to_Hexadeciaml(num):\n",
        "  return hex(num).replace(\"0x\", \"\")\n",
        "\n",
        "\n",
        "print(decimal_to_binary(15))\n",
        "print(decimal_to_octal(34))\n",
        "print(decimal_to_Hexadeciaml(45))"
      ],
      "metadata": {
        "colab": {
          "base_uri": "https://localhost:8080/"
        },
        "id": "I8as0Hn24R1I",
        "outputId": "4dd46a1a-69cb-41d1-ef09-df873d9c0a09"
      },
      "execution_count": 16,
      "outputs": [
        {
          "output_type": "stream",
          "name": "stdout",
          "text": [
            "1111\n",
            "42\n",
            "2d\n"
          ]
        }
      ]
    },
    {
      "cell_type": "markdown",
      "source": [
        "4. Write a Python Program To Find ASCII value of a character?"
      ],
      "metadata": {
        "id": "t4bj_bip314I"
      }
    },
    {
      "cell_type": "code",
      "source": [
        "def Ascii(a):\n",
        "  return ord(a)\n",
        "\n",
        "Ascii('a')"
      ],
      "metadata": {
        "colab": {
          "base_uri": "https://localhost:8080/"
        },
        "id": "-sdf3inf4Sev",
        "outputId": "22897e5d-0391-426f-f35f-a7d2418bdd30"
      },
      "execution_count": 17,
      "outputs": [
        {
          "output_type": "execute_result",
          "data": {
            "text/plain": [
              "97"
            ]
          },
          "metadata": {},
          "execution_count": 17
        }
      ]
    },
    {
      "cell_type": "markdown",
      "source": [
        "5. Write a Python Program to Make a Simple Calculator with 4 basic mathematical operations?"
      ],
      "metadata": {
        "id": "HotTz0Pg32wX"
      }
    },
    {
      "cell_type": "code",
      "source": [
        "class Calculator:\n",
        "  def __init__(self,a,b):\n",
        "    self.a = a\n",
        "    self.b = b\n",
        "\n",
        "  def add(a,b):\n",
        "    return a+b\n",
        "\n",
        "  def sub(a,b):\n",
        "    return a-b\n",
        "\n",
        "  def divide(a,b):\n",
        "    return a/b\n",
        "\n",
        "  def multiply(a,b):\n",
        "    return a*b\n",
        "\n",
        "print(Calculator.add(4,5))\n",
        "print(Calculator.sub(10,4))\n",
        "print(Calculator.divide(56,8))\n",
        "print(Calculator.multiply(3,9))"
      ],
      "metadata": {
        "colab": {
          "base_uri": "https://localhost:8080/"
        },
        "id": "qnz3CcnE42fI",
        "outputId": "855258dd-eec0-4240-e73a-6406eb7dc6e3"
      },
      "execution_count": 8,
      "outputs": [
        {
          "output_type": "stream",
          "name": "stdout",
          "text": [
            "9\n",
            "6\n",
            "7.0\n",
            "27\n"
          ]
        }
      ]
    },
    {
      "cell_type": "code",
      "source": [
        ""
      ],
      "metadata": {
        "id": "M_o-_Qg05iGd"
      },
      "execution_count": null,
      "outputs": []
    }
  ]
}