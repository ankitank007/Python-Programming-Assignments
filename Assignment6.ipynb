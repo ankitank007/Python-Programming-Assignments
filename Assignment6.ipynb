{
  "nbformat": 4,
  "nbformat_minor": 0,
  "metadata": {
    "colab": {
      "name": "Assignment6.ipynb",
      "provenance": [],
      "collapsed_sections": []
    },
    "kernelspec": {
      "name": "python3",
      "display_name": "Python 3"
    },
    "language_info": {
      "name": "python"
    }
  },
  "cells": [
    {
      "cell_type": "markdown",
      "source": [
        "1. Write a Python Program to Display Fibonacci Sequence Using Recursion?"
      ],
      "metadata": {
        "id": "Hg7PV3zLBc_F"
      }
    },
    {
      "cell_type": "code",
      "source": [
        "def fib(n):\n",
        "  if n <= 1:\n",
        "    return n\n",
        "  else:\n",
        "    return (fib(n-1) + fib(n-2))\n",
        "\n",
        "n = 5\n",
        "if n <= 0:\n",
        "  print(\"Enter value grater than zero\")\n",
        "\n",
        "else:\n",
        "  for i in range(n):\n",
        "    print(fib(i),end=\" \")\n"
      ],
      "metadata": {
        "id": "fgPtg7WcCUWE",
        "colab": {
          "base_uri": "https://localhost:8080/"
        },
        "outputId": "bfe4a7ee-5679-410c-f4e7-525d6d275a53"
      },
      "execution_count": 2,
      "outputs": [
        {
          "output_type": "stream",
          "name": "stdout",
          "text": [
            "0 1 1 2 3 "
          ]
        }
      ]
    },
    {
      "cell_type": "markdown",
      "source": [
        "2. Write a Python Program to Find Factorial of Number Using Recursion?"
      ],
      "metadata": {
        "id": "39A9NKnOBd4U"
      }
    },
    {
      "cell_type": "code",
      "source": [
        "def factorial(n):\n",
        "  if n < 2:\n",
        "    return 1\n",
        "  else:\n",
        "    return n * factorial(n-1)\n",
        "factorial(4)"
      ],
      "metadata": {
        "colab": {
          "base_uri": "https://localhost:8080/"
        },
        "id": "JSFfVNKUCTsF",
        "outputId": "6cfbf89d-7e7f-4112-bc7b-29b1d925af90"
      },
      "execution_count": 3,
      "outputs": [
        {
          "output_type": "execute_result",
          "data": {
            "text/plain": [
              "24"
            ]
          },
          "metadata": {},
          "execution_count": 3
        }
      ]
    },
    {
      "cell_type": "markdown",
      "source": [
        "3. Write a Python Program to calculate your Body Mass Index?"
      ],
      "metadata": {
        "id": "dsZYKzCNBhUt"
      }
    },
    {
      "cell_type": "code",
      "source": [
        "def body_maas_index(w,h):\n",
        "  return w/(h**2) # h is height in meters and w is weight in kg\n",
        "\n",
        "body_maas_index(82,1.85)"
      ],
      "metadata": {
        "colab": {
          "base_uri": "https://localhost:8080/"
        },
        "id": "NeadQXnNCS8s",
        "outputId": "d1642f1e-1773-4de6-9c64-419d96166808"
      },
      "execution_count": 4,
      "outputs": [
        {
          "output_type": "execute_result",
          "data": {
            "text/plain": [
              "23.959094229364496"
            ]
          },
          "metadata": {},
          "execution_count": 4
        }
      ]
    },
    {
      "cell_type": "markdown",
      "source": [
        "4. Write a Python Program to calculate the natural logarithm of any number?"
      ],
      "metadata": {
        "id": "Sq9ZEPMmBjol"
      }
    },
    {
      "cell_type": "code",
      "source": [
        "import math\n",
        "print(math.log(1))\n",
        "print(math.log(10))"
      ],
      "metadata": {
        "id": "eh38oHo6CScF",
        "colab": {
          "base_uri": "https://localhost:8080/"
        },
        "outputId": "1ee9ee19-1622-4259-f467-fbeffa9f9222"
      },
      "execution_count": 9,
      "outputs": [
        {
          "output_type": "stream",
          "name": "stdout",
          "text": [
            "0.0\n",
            "2.302585092994046\n"
          ]
        }
      ]
    },
    {
      "cell_type": "markdown",
      "source": [
        "5. Write a Python Program for cube sum of first n natural numbers?"
      ],
      "metadata": {
        "id": "j_r7WCCjBnpd"
      }
    },
    {
      "cell_type": "code",
      "source": [
        "def cube_sum(n):\n",
        "  return ((n*(n+1))/2)**2\n",
        "\n",
        "cube_sum(3)"
      ],
      "metadata": {
        "colab": {
          "base_uri": "https://localhost:8080/"
        },
        "id": "0XFSw59YBqcC",
        "outputId": "147e1788-6b5e-4587-84ab-77bf99bccc70"
      },
      "execution_count": null,
      "outputs": [
        {
          "output_type": "execute_result",
          "data": {
            "text/plain": [
              "36.0"
            ]
          },
          "metadata": {},
          "execution_count": 2
        }
      ]
    },
    {
      "cell_type": "code",
      "source": [
        ""
      ],
      "metadata": {
        "id": "mErzSNS-CLcE"
      },
      "execution_count": null,
      "outputs": []
    }
  ]
}