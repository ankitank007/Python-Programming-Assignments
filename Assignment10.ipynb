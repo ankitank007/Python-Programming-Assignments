{
  "nbformat": 4,
  "nbformat_minor": 0,
  "metadata": {
    "colab": {
      "name": "Assignment10.ipynb",
      "provenance": [],
      "collapsed_sections": []
    },
    "kernelspec": {
      "name": "python3",
      "display_name": "Python 3"
    },
    "language_info": {
      "name": "python"
    }
  },
  "cells": [
    {
      "cell_type": "markdown",
      "source": [
        "1. Write a Python program to find sum of elements in list?"
      ],
      "metadata": {
        "id": "t64X_kp7FWvK"
      }
    },
    {
      "cell_type": "code",
      "execution_count": null,
      "metadata": {
        "colab": {
          "base_uri": "https://localhost:8080/"
        },
        "id": "YjpwimtXFRFr",
        "outputId": "d01b3a8a-89fd-495c-92e9-04ff84dd8f43"
      },
      "outputs": [
        {
          "output_type": "stream",
          "name": "stdout",
          "text": [
            "42\n"
          ]
        }
      ],
      "source": [
        "lst = [3,4,5,6,7,8,9]\n",
        "su = 0\n",
        "for i in lst:\n",
        "  su += i\n",
        "\n",
        "print(su)"
      ]
    },
    {
      "cell_type": "markdown",
      "source": [
        "2. Write a Python program to Multiply all numbers in the list?"
      ],
      "metadata": {
        "id": "UUdLstkOFZj-"
      }
    },
    {
      "cell_type": "code",
      "source": [
        "mu = 1\n",
        "for i in lst:\n",
        "  mu *= i\n",
        "\n",
        "print(mu)"
      ],
      "metadata": {
        "colab": {
          "base_uri": "https://localhost:8080/"
        },
        "id": "tzYXxGTwGZ8-",
        "outputId": "83151eaf-e603-42f5-923c-ddb7fd0a218a"
      },
      "execution_count": null,
      "outputs": [
        {
          "output_type": "stream",
          "name": "stdout",
          "text": [
            "181440\n"
          ]
        }
      ]
    },
    {
      "cell_type": "markdown",
      "source": [
        "3. Write a Python program to find smallest number in a list?"
      ],
      "metadata": {
        "id": "3eo-ojm-FZph"
      }
    },
    {
      "cell_type": "code",
      "source": [
        "sm = lst[0]\n",
        "for i in range(len(lst)):\n",
        "  if sm > lst[i]:\n",
        "    sm = lst[i]\n",
        "print(sm)"
      ],
      "metadata": {
        "colab": {
          "base_uri": "https://localhost:8080/"
        },
        "id": "7TSzkAcHGrKl",
        "outputId": "62445f23-0247-49f5-878e-8721bb6d5a2c"
      },
      "execution_count": null,
      "outputs": [
        {
          "output_type": "stream",
          "name": "stdout",
          "text": [
            "3\n"
          ]
        }
      ]
    },
    {
      "cell_type": "markdown",
      "source": [
        "4. Write a Python program to find largest number in a list?"
      ],
      "metadata": {
        "id": "U9Gv7Eh9FZtG"
      }
    },
    {
      "cell_type": "code",
      "source": [
        "lar = lst[0]\n",
        "for i in range(len(lst)):\n",
        "  if lar < lst[i]:\n",
        "    lar = lst[i]\n",
        "print(lar)"
      ],
      "metadata": {
        "colab": {
          "base_uri": "https://localhost:8080/"
        },
        "id": "-ukqlN6lIqJG",
        "outputId": "d303a571-0c6e-4307-c74a-ba9138cc6adf"
      },
      "execution_count": null,
      "outputs": [
        {
          "output_type": "stream",
          "name": "stdout",
          "text": [
            "9\n"
          ]
        }
      ]
    },
    {
      "cell_type": "markdown",
      "source": [
        "5. Write a Python program to find second largest number in a list?\n"
      ],
      "metadata": {
        "id": "p6FT8TVQFZzI"
      }
    },
    {
      "cell_type": "code",
      "source": [
        "lar = lst[0]\n",
        "lst1 = []\n",
        "for i in range(len(lst)):\n",
        "  if lar < lst[i]:\n",
        "    lar = lst[i]\n",
        "  lst1.append(lar)\n",
        "\n",
        "print(lst1[-2]) # to print second largest number\n"
      ],
      "metadata": {
        "colab": {
          "base_uri": "https://localhost:8080/"
        },
        "id": "q18bKNbHI9f4",
        "outputId": "9224a974-2ed1-48ec-aa7a-b6f0fb216109"
      },
      "execution_count": null,
      "outputs": [
        {
          "output_type": "stream",
          "name": "stdout",
          "text": [
            "8\n"
          ]
        }
      ]
    },
    {
      "cell_type": "markdown",
      "source": [
        "6. Write a Python program to find N largest elements from a list?"
      ],
      "metadata": {
        "id": "X27uTN83FpyP"
      }
    },
    {
      "cell_type": "code",
      "source": [
        "lar = lst[0]\n",
        "lst1 = []\n",
        "for i in range(len(lst)):\n",
        "  if lar < lst[i]:\n",
        "    lar = lst[i]\n",
        "  lst1.append(lar)\n",
        "\n",
        "n = 5\n",
        "print(lst[-n])"
      ],
      "metadata": {
        "colab": {
          "base_uri": "https://localhost:8080/"
        },
        "id": "MMX3tkgLJuF9",
        "outputId": "1c1afc80-a588-4105-b5c0-76742c37606c"
      },
      "execution_count": null,
      "outputs": [
        {
          "output_type": "stream",
          "name": "stdout",
          "text": [
            "5\n"
          ]
        }
      ]
    },
    {
      "cell_type": "markdown",
      "source": [
        "7. Write a Python program to print even numbers in a list?"
      ],
      "metadata": {
        "id": "pQC1PbjtFsfP"
      }
    },
    {
      "cell_type": "code",
      "source": [
        "for i in range(len(lst)):\n",
        "  if lst[i] % 2 == 0:\n",
        "    print(lst[i])"
      ],
      "metadata": {
        "colab": {
          "base_uri": "https://localhost:8080/"
        },
        "id": "PTx43iq0KEhQ",
        "outputId": "e4ca190b-9f26-4671-df1f-1bd82747cdfe"
      },
      "execution_count": null,
      "outputs": [
        {
          "output_type": "stream",
          "name": "stdout",
          "text": [
            "4\n",
            "6\n",
            "8\n"
          ]
        }
      ]
    },
    {
      "cell_type": "markdown",
      "source": [
        "8. Write a Python program to print odd numbers in a List?"
      ],
      "metadata": {
        "id": "TvZXrCy5FvEu"
      }
    },
    {
      "cell_type": "code",
      "source": [
        "for i in range(len(lst)):\n",
        "  if lst[i] % 2 != 0:\n",
        "    print(lst[i])"
      ],
      "metadata": {
        "colab": {
          "base_uri": "https://localhost:8080/"
        },
        "id": "Rzkr5U4fMZXs",
        "outputId": "a21f0062-a6e9-41f8-a3dc-f9f3a2fda8a9"
      },
      "execution_count": null,
      "outputs": [
        {
          "output_type": "stream",
          "name": "stdout",
          "text": [
            "3\n",
            "5\n",
            "7\n",
            "9\n"
          ]
        }
      ]
    },
    {
      "cell_type": "markdown",
      "source": [
        "9. Write a Python program to Remove empty List from List?"
      ],
      "metadata": {
        "id": "iG9uD1G8F2mX"
      }
    },
    {
      "cell_type": "code",
      "source": [
        "lst1 = [1,2,3,[],[],4,[]]\n",
        "lst2 = []\n",
        "for i in range(len(lst1)):\n",
        "  if lst1[i] != []:\n",
        "    lst2.append(lst1[i])\n",
        "\n",
        "print(lst2)\n"
      ],
      "metadata": {
        "colab": {
          "base_uri": "https://localhost:8080/"
        },
        "id": "kQsoyK4QvCh2",
        "outputId": "b8a43e3e-7329-4875-e225-10b1dc636662"
      },
      "execution_count": 1,
      "outputs": [
        {
          "output_type": "stream",
          "name": "stdout",
          "text": [
            "[1, 2, 3, 4]\n"
          ]
        }
      ]
    },
    {
      "cell_type": "markdown",
      "source": [
        "10. Write a Python program to Cloning or Copying a list?"
      ],
      "metadata": {
        "id": "R5BCtIfpF7gu"
      }
    },
    {
      "cell_type": "code",
      "source": [
        "lst_1 = [12,13,23,45,56]\n",
        "lst_2 = lst_1.copy()\n",
        "print(lst_2)"
      ],
      "metadata": {
        "colab": {
          "base_uri": "https://localhost:8080/"
        },
        "id": "_oP3tLa3vB6U",
        "outputId": "f55e9969-f362-4bab-89ac-2fae7f57df99"
      },
      "execution_count": 3,
      "outputs": [
        {
          "output_type": "stream",
          "name": "stdout",
          "text": [
            "[12, 13, 23, 45, 56]\n"
          ]
        }
      ]
    },
    {
      "cell_type": "markdown",
      "source": [
        "11. Write a Python program to Count occurrences of an element in a list?"
      ],
      "metadata": {
        "id": "IJlse6fmF-22"
      }
    },
    {
      "cell_type": "code",
      "source": [
        "cu = 0\n",
        "for i in range(len(lst)):\n",
        "  cu+=1\n",
        "\n",
        "print(cu)"
      ],
      "metadata": {
        "colab": {
          "base_uri": "https://localhost:8080/"
        },
        "id": "X4NHX89NGCnc",
        "outputId": "63876290-c890-499a-ad4e-1f5e2a042c1f"
      },
      "execution_count": null,
      "outputs": [
        {
          "output_type": "stream",
          "name": "stdout",
          "text": [
            "7\n"
          ]
        }
      ]
    },
    {
      "cell_type": "code",
      "source": [
        ""
      ],
      "metadata": {
        "id": "M_gG3AGDM0Ug"
      },
      "execution_count": null,
      "outputs": []
    }
  ]
}